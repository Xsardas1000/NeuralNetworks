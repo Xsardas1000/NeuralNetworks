{
 "cells": [
  {
   "cell_type": "markdown",
   "metadata": {},
   "source": [
    "## Семинар 3 \"Определение ключевых точек лица\""
   ]
  },
  {
   "cell_type": "markdown",
   "metadata": {},
   "source": [
    "ФИО: Филин Максим Дмитриевич"
   ]
  },
  {
   "cell_type": "raw",
   "metadata": {},
   "source": [
    "Рассматривал различные архитектуры с полносвязными слоями и сверточные сети\n",
    "Лучший результат - network4 - 7.15\n",
    "Сверточные пока дают результат хуже"
   ]
  },
  {
   "cell_type": "code",
   "execution_count": 1,
   "metadata": {},
   "outputs": [],
   "source": [
    "import torch"
   ]
  },
  {
   "cell_type": "code",
   "execution_count": 2,
   "metadata": {},
   "outputs": [
    {
     "data": {
      "text/plain": [
       "True"
      ]
     },
     "execution_count": 2,
     "metadata": {},
     "output_type": "execute_result"
    }
   ],
   "source": [
    "torch.cuda.is_available()"
   ]
  },
  {
   "cell_type": "markdown",
   "metadata": {},
   "source": [
    "## Задание"
   ]
  },
  {
   "cell_type": "markdown",
   "metadata": {},
   "source": [
    "Используя датасет из архива решите задачу регрессии для поиска 68-ми ключевых точек лица. \n",
    "\n",
    "Для обучения и валидации используйте изображения и разметку из папок train и test соответственно.\n",
    "\n",
    "Попробуйте сети глубины 1 и 2 и разные активации (ELU, RELU и sigmoid).\n",
    "Для каждой архитектуры постройте графики для функции потерь на train/test"
   ]
  },
  {
   "cell_type": "code",
   "execution_count": 3,
   "metadata": {},
   "outputs": [
    {
     "name": "stdout",
     "output_type": "stream",
     "text": [
      "Image name: 109.jpeg\n",
      "Landmarks shape: (68, 2)\n",
      "First 4 Landmarks: [[ 7. 41.]\n",
      " [ 8. 51.]\n",
      " [10. 60.]\n",
      " [13. 70.]]\n"
     ]
    },
    {
     "data": {
      "image/png": "[encoded data removed]",
      "text/plain": [
       "<Figure size 432x288 with 1 Axes>"
      ]
     },
     "metadata": {},
     "output_type": "display_data"
    }
   ],
   "source": [
    "%matplotlib inline\n",
    "from __future__ import print_function, division\n",
    "import os\n",
    "import torch\n",
    "import sys\n",
    "from torch import nn\n",
    "import pandas as pd\n",
    "from skimage import io, transform\n",
    "import numpy as np\n",
    "import matplotlib.pyplot as plt\n",
    "from torch.utils.data import Dataset, DataLoader\n",
    "from torchvision import transforms, utils\n",
    "from torch.nn import MSELoss, Sequential, Linear, Sigmoid, Tanh, ELU\n",
    "from torch.autograd import Variable\n",
    "# Ignore warnings\n",
    "import warnings\n",
    "import pickle\n",
    "warnings.filterwarnings(\"ignore\")\n",
    "\n",
    "landmarks_frame = pd.read_csv('dataset/train/face_landmarks.csv')\n",
    "\n",
    "n = 100\n",
    "img_name = landmarks_frame.ix[n, 0]\n",
    "landmarks = landmarks_frame.ix[n, 1:].as_matrix().astype('float')\n",
    "landmarks = landmarks.reshape(-1, 2)\n",
    "\n",
    "print('Image name: {}'.format(img_name))\n",
    "print('Landmarks shape: {}'.format(landmarks.shape))\n",
    "print('First 4 Landmarks: {}'.format(landmarks[:4]))\n",
    "\n",
    "def show_landmarks(image, landmarks):\n",
    "    \"\"\"Show image with landmarks\"\"\"\n",
    "    plt.imshow(image, cmap='gray')\n",
    "    plt.scatter(landmarks[:, 0], landmarks[:, 1], s=10, marker='.', c='red', cmap='rgb')\n",
    "    plt.pause(0.001)  \n",
    "\n",
    "plt.figure()\n",
    "show_landmarks(io.imread(os.path.join('dataset/train/', img_name)),\n",
    "               landmarks)\n",
    "plt.show()"
   ]
  },
  {
   "cell_type": "code",
   "execution_count": 4,
   "metadata": {},
   "outputs": [
    {
     "name": "stdout",
     "output_type": "stream",
     "text": [
      "(6221, 137)\n"
     ]
    },
    {
     "data": {
      "text/html": [
       "<div>\n",
       "<style scoped>\n",
       "    .dataframe tbody tr th:only-of-type {\n",
       "        vertical-align: middle;\n",
       "    }\n",
       "\n",
       "    .dataframe tbody tr th {\n",
       "        vertical-align: top;\n",
       "    }\n",
       "\n",
       "    .dataframe thead th {\n",
       "        text-align: right;\n",
       "    }\n",
       "</style>\n",
       "<table border=\"1\" class=\"dataframe\">\n",
       "  <thead>\n",
       "    <tr style=\"text-align: right;\">\n",
       "      <th></th>\n",
       "      <th>image_name</th>\n",
       "      <th>part_0_x</th>\n",
       "      <th>part_0_y</th>\n",
       "      <th>part_1_x</th>\n",
       "      <th>part_1_y</th>\n",
       "      <th>part_2_x</th>\n",
       "      <th>part_2_y</th>\n",
       "      <th>part_3_x</th>\n",
       "      <th>part_3_y</th>\n",
       "      <th>part_4_x</th>\n",
       "      <th>...</th>\n",
       "      <th>part_63_x</th>\n",
       "      <th>part_63_y</th>\n",
       "      <th>part_64_x</th>\n",
       "      <th>part_64_y</th>\n",
       "      <th>part_65_x</th>\n",
       "      <th>part_65_y</th>\n",
       "      <th>part_66_x</th>\n",
       "      <th>part_66_y</th>\n",
       "      <th>part_67_x</th>\n",
       "      <th>part_67_y</th>\n",
       "    </tr>\n",
       "  </thead>\n",
       "  <tbody>\n",
       "    <tr>\n",
       "      <th>0</th>\n",
       "      <td>0.jpeg</td>\n",
       "      <td>10</td>\n",
       "      <td>43</td>\n",
       "      <td>9</td>\n",
       "      <td>53</td>\n",
       "      <td>8</td>\n",
       "      <td>64</td>\n",
       "      <td>8</td>\n",
       "      <td>74</td>\n",
       "      <td>10</td>\n",
       "      <td>...</td>\n",
       "      <td>47</td>\n",
       "      <td>78</td>\n",
       "      <td>56</td>\n",
       "      <td>80</td>\n",
       "      <td>47</td>\n",
       "      <td>77</td>\n",
       "      <td>43</td>\n",
       "      <td>77</td>\n",
       "      <td>39</td>\n",
       "      <td>77</td>\n",
       "    </tr>\n",
       "    <tr>\n",
       "      <th>1</th>\n",
       "      <td>1.jpeg</td>\n",
       "      <td>9</td>\n",
       "      <td>32</td>\n",
       "      <td>8</td>\n",
       "      <td>42</td>\n",
       "      <td>9</td>\n",
       "      <td>52</td>\n",
       "      <td>12</td>\n",
       "      <td>62</td>\n",
       "      <td>15</td>\n",
       "      <td>...</td>\n",
       "      <td>48</td>\n",
       "      <td>74</td>\n",
       "      <td>53</td>\n",
       "      <td>76</td>\n",
       "      <td>48</td>\n",
       "      <td>77</td>\n",
       "      <td>46</td>\n",
       "      <td>77</td>\n",
       "      <td>42</td>\n",
       "      <td>77</td>\n",
       "    </tr>\n",
       "    <tr>\n",
       "      <th>2</th>\n",
       "      <td>10.jpeg</td>\n",
       "      <td>4</td>\n",
       "      <td>34</td>\n",
       "      <td>5</td>\n",
       "      <td>44</td>\n",
       "      <td>6</td>\n",
       "      <td>54</td>\n",
       "      <td>9</td>\n",
       "      <td>64</td>\n",
       "      <td>14</td>\n",
       "      <td>...</td>\n",
       "      <td>50</td>\n",
       "      <td>70</td>\n",
       "      <td>56</td>\n",
       "      <td>72</td>\n",
       "      <td>50</td>\n",
       "      <td>72</td>\n",
       "      <td>47</td>\n",
       "      <td>72</td>\n",
       "      <td>43</td>\n",
       "      <td>72</td>\n",
       "    </tr>\n",
       "    <tr>\n",
       "      <th>3</th>\n",
       "      <td>100.jpeg</td>\n",
       "      <td>12</td>\n",
       "      <td>41</td>\n",
       "      <td>13</td>\n",
       "      <td>51</td>\n",
       "      <td>15</td>\n",
       "      <td>60</td>\n",
       "      <td>17</td>\n",
       "      <td>70</td>\n",
       "      <td>21</td>\n",
       "      <td>...</td>\n",
       "      <td>54</td>\n",
       "      <td>72</td>\n",
       "      <td>61</td>\n",
       "      <td>71</td>\n",
       "      <td>54</td>\n",
       "      <td>73</td>\n",
       "      <td>51</td>\n",
       "      <td>73</td>\n",
       "      <td>47</td>\n",
       "      <td>73</td>\n",
       "    </tr>\n",
       "    <tr>\n",
       "      <th>4</th>\n",
       "      <td>1000.jpeg</td>\n",
       "      <td>8</td>\n",
       "      <td>46</td>\n",
       "      <td>9</td>\n",
       "      <td>55</td>\n",
       "      <td>10</td>\n",
       "      <td>64</td>\n",
       "      <td>12</td>\n",
       "      <td>73</td>\n",
       "      <td>16</td>\n",
       "      <td>...</td>\n",
       "      <td>54</td>\n",
       "      <td>65</td>\n",
       "      <td>62</td>\n",
       "      <td>70</td>\n",
       "      <td>54</td>\n",
       "      <td>72</td>\n",
       "      <td>50</td>\n",
       "      <td>72</td>\n",
       "      <td>46</td>\n",
       "      <td>71</td>\n",
       "    </tr>\n",
       "  </tbody>\n",
       "</table>\n",
       "<p>5 rows × 137 columns</p>\n",
       "</div>"
      ],
      "text/plain": [
       "  image_name  part_0_x  part_0_y  part_1_x  part_1_y  part_2_x  part_2_y  \\\n",
       "0     0.jpeg        10        43         9        53         8        64   \n",
       "1     1.jpeg         9        32         8        42         9        52   \n",
       "2    10.jpeg         4        34         5        44         6        54   \n",
       "3   100.jpeg        12        41        13        51        15        60   \n",
       "4  1000.jpeg         8        46         9        55        10        64   \n",
       "\n",
       "   part_3_x  part_3_y  part_4_x    ...      part_63_x  part_63_y  part_64_x  \\\n",
       "0         8        74        10    ...             47         78         56   \n",
       "1        12        62        15    ...             48         74         53   \n",
       "2         9        64        14    ...             50         70         56   \n",
       "3        17        70        21    ...             54         72         61   \n",
       "4        12        73        16    ...             54         65         62   \n",
       "\n",
       "   part_64_y  part_65_x  part_65_y  part_66_x  part_66_y  part_67_x  part_67_y  \n",
       "0         80         47         77         43         77         39         77  \n",
       "1         76         48         77         46         77         42         77  \n",
       "2         72         50         72         47         72         43         72  \n",
       "3         71         54         73         51         73         47         73  \n",
       "4         70         54         72         50         72         46         71  \n",
       "\n",
       "[5 rows x 137 columns]"
      ]
     },
     "execution_count": 4,
     "metadata": {},
     "output_type": "execute_result"
    }
   ],
   "source": [
    "print(landmarks_frame.shape)\n",
    "landmarks_frame.head()"
   ]
  },
  {
   "cell_type": "code",
   "execution_count": null,
   "metadata": {},
   "outputs": [],
   "source": []
  },
  {
   "cell_type": "code",
   "execution_count": 5,
   "metadata": {},
   "outputs": [],
   "source": [
    "def show_landmarks_batch(sample_batch, y_pred=None):\n",
    "    \"\"\"Show image with landmarks for a batch of samples.\"\"\"\n",
    "    images_batch, landmarks_batch = \\\n",
    "            sample_batch['image'], sample_batch['landmarks']\n",
    "    batch_size = len(images_batch)\n",
    "    im_size = images_batch.size(2)\n",
    "\n",
    "    grid = utils.make_grid(images_batch)\n",
    "    print(images_batch.numpy().shape)\n",
    "    plt.imshow(grid.numpy().transpose(1,0,2).reshape(im_size, -1), cmap=\"gray\")\n",
    "\n",
    "    for i in range(batch_size):\n",
    "        plt.scatter(landmarks_batch[i, :, 0].numpy() + i * im_size,\n",
    "                    landmarks_batch[i, :, 1].numpy(),\n",
    "                    s=10, marker='.', c='r', label='Real')\n",
    "\n",
    "    if type(y_pred) != type(None):\n",
    "        for i in range(batch_size):\n",
    "            plt.scatter(y_pred[i, :, 0] + i * im_size,\n",
    "                        y_pred[i, :, 1],\n",
    "                        s=10, marker='.', c='b',  label='Prediction')\n",
    "        plt.title('Batch from dataloader')\n",
    "    plt.legend()"
   ]
  },
  {
   "cell_type": "code",
   "execution_count": 6,
   "metadata": {},
   "outputs": [],
   "source": [
    "class FaceLandmarksDataset(Dataset):\n",
    "    \"\"\"Face Landmarks dataset.\"\"\"\n",
    "\n",
    "    def __init__(self, csv_file, root_dir, transform=None):\n",
    "        \"\"\"\n",
    "        Args:\n",
    "            csv_file (string): Path to the csv file with annotations.\n",
    "            root_dir (string): Directory with all the images.\n",
    "            transform (callable, optional): Optional transform to be applied\n",
    "                on a sample.\n",
    "        \"\"\"\n",
    "        self.landmarks_frame = pd.read_csv(csv_file)\n",
    "        self.root_dir = root_dir\n",
    "        self.transform = transform\n",
    "\n",
    "    def __len__(self):\n",
    "        return len(self.landmarks_frame)\n",
    "\n",
    "    def __getitem__(self, idx):\n",
    "        img_name = os.path.join(self.root_dir, self.landmarks_frame.iloc[idx, 0])\n",
    "        image = io.imread(img_name)\n",
    "        landmarks = self.landmarks_frame.iloc[idx, 1:].as_matrix().astype('float')\n",
    "        landmarks = landmarks.reshape(-1, 2)\n",
    "        sample = {'image': image, 'landmarks': landmarks}\n",
    "\n",
    "        if self.transform:\n",
    "            sample = self.transform(sample)\n",
    "\n",
    "        return sample"
   ]
  },
  {
   "cell_type": "code",
   "execution_count": 7,
   "metadata": {},
   "outputs": [],
   "source": [
    "class ToTensor(object):\n",
    "    \"\"\"Convert ndarrays in sample to Tensors.\"\"\"\n",
    "\n",
    "    def __call__(self, sample):\n",
    "        image, landmarks = sample['image'], sample['landmarks']\n",
    "        return {'image': torch.from_numpy(image),\n",
    "                'landmarks': torch.from_numpy(landmarks)}"
   ]
  },
  {
   "cell_type": "code",
   "execution_count": 8,
   "metadata": {},
   "outputs": [],
   "source": [
    "train_dataset = FaceLandmarksDataset(csv_file='dataset/train/face_landmarks.csv',\n",
    "                                     root_dir='dataset/train',\n",
    "                                     transform=ToTensor()\n",
    "                                     )\n",
    "\n",
    "test_dataset = FaceLandmarksDataset(csv_file='dataset/test/face_landmarks.csv',\n",
    "                                     root_dir='dataset/test',\n",
    "                                     transform=ToTensor()\n",
    "                                     )"
   ]
  },
  {
   "cell_type": "code",
   "execution_count": 9,
   "metadata": {},
   "outputs": [],
   "source": [
    "train_dataloader = DataLoader(train_dataset, batch_size=64,\n",
    "                        shuffle=True, num_workers=6)\n",
    "\n",
    "test_dataloader = DataLoader(test_dataset, batch_size=64,\n",
    "                        shuffle=True, num_workers=6)"
   ]
  },
  {
   "cell_type": "code",
   "execution_count": 10,
   "metadata": {},
   "outputs": [],
   "source": [
    "dtype=torch.cuda.FloatTensor"
   ]
  },
  {
   "cell_type": "code",
   "execution_count": 11,
   "metadata": {},
   "outputs": [
    {
     "name": "stdout",
     "output_type": "stream",
     "text": [
      "torch.Size([64, 1, 96, 96])\n",
      "torch.Size([64, 1, 68, 2])\n"
     ]
    }
   ],
   "source": [
    "for sample in train_dataloader:\n",
    "    X = sample['image']\n",
    "    #X = Variable(X.view(X.shape[0], -1)).type(dtype)\n",
    "    X = Variable(X)\n",
    "    X = X[:, np.newaxis, :, :]\n",
    "    \n",
    "    y = sample['landmarks']\n",
    "    #y = Variable(y.view(y.shape[0], -1)).type(dtype)\n",
    "    y = Variable(y)\n",
    "    y = y[:, np.newaxis, :, :]\n",
    "    print(X.shape)\n",
    "    print(y.shape)\n",
    "    break"
   ]
  },
  {
   "cell_type": "code",
   "execution_count": 12,
   "metadata": {},
   "outputs": [],
   "source": [
    "mse_loss = torch.nn.MSELoss().cuda()\n",
    "\n",
    "\n",
    "def train(network, epochs, learning_rate, loss=torch.nn.MSELoss().cuda(), optim=torch.optim.Adam):\n",
    "    train_loss_epochs = []\n",
    "    test_loss_epochs = []\n",
    "    optimizer = optim(network.parameters(), lr=learning_rate)\n",
    "    try:\n",
    "        for epoch in range(epochs):\n",
    "            losses = []\n",
    "            accuracies = []\n",
    "            for sample in train_dataloader:\n",
    "                X = sample['image']\n",
    "                X = Variable(X.view(X.shape[0], -1)).type(dtype)\n",
    "                y = sample['landmarks']\n",
    "                y = Variable(y.view(y.shape[0], -1)).type(dtype)\n",
    "\n",
    "                prediction = network(X)\n",
    "                loss_batch = loss(prediction, y)\n",
    "                losses.append(loss_batch.data[0])\n",
    "                \n",
    "                optimizer.zero_grad()\n",
    "                loss_batch.backward()\n",
    "                optimizer.step()\n",
    "  \n",
    "            train_loss_epochs.append(np.mean(losses))\n",
    "            losses = []    \n",
    "            for sample in test_dataloader:\n",
    "                X = sample['image']\n",
    "                X = Variable(X.view(X.shape[0], -1)).type(dtype)\n",
    "                y = sample['landmarks']\n",
    "                y = Variable(y.view(y.shape[0], -1)).type(dtype)\n",
    "                \n",
    "                prediction = network(X)\n",
    "                loss_batch = loss(prediction, y)\n",
    "                losses.append(loss_batch.data[0])\n",
    "                \n",
    "            test_loss_epochs.append(np.mean(losses))\n",
    "            sys.stdout.write('\\rEpoch {0}... (Train/Test) MSE: {1:.3f}/{2:.3f}'.format(\n",
    "                        epoch, train_loss_epochs[-1], test_loss_epochs[-1]))\n",
    "    except KeyboardInterrupt:\n",
    "        pass\n",
    "    plt.figure(figsize=(12, 5))\n",
    "    plt.plot(train_loss_epochs[1:], label='Train')\n",
    "    plt.plot(test_loss_epochs[1:], label='Test')\n",
    "    plt.xlabel('Epochs', fontsize=16)\n",
    "    plt.ylabel('Loss', fontsize=16)\n",
    "    plt.legend(loc=0, fontsize=16)\n",
    "    plt.grid('on')\n",
    "    plt.show()\n",
    "    return test_loss_epochs"
   ]
  },
  {
   "cell_type": "code",
   "execution_count": 13,
   "metadata": {},
   "outputs": [],
   "source": [
    "def get_loss(network):\n",
    "    loss = mse_loss = torch.nn.MSELoss().cuda()\n",
    "    losses = []   \n",
    "    for sample in test_dataloader:\n",
    "        X = sample['image']\n",
    "        X = Variable(X.view(X.shape[0], -1)).type(dtype)\n",
    "        y = sample['landmarks']\n",
    "        y = Variable(y.view(y.shape[0], -1)).type(dtype)\n",
    "\n",
    "        prediction = network(X)\n",
    "        loss_batch = loss(prediction, y)\n",
    "        losses.append(loss_batch.data[0])  \n",
    "    return np.mean(losses)"
   ]
  },
  {
   "cell_type": "code",
   "execution_count": 14,
   "metadata": {},
   "outputs": [],
   "source": [
    "def save_network(network, path):\n",
    "    with open(path, 'wb') as f:\n",
    "        pickle.dump(network, f)"
   ]
  },
  {
   "cell_type": "code",
   "execution_count": 15,
   "metadata": {},
   "outputs": [],
   "source": [
    "def load_network(path):\n",
    "    with open(path, 'rb') as f:\n",
    "        network = pickle.load(f)\n",
    "    return network"
   ]
  },
  {
   "cell_type": "markdown",
   "metadata": {},
   "source": [
    "## Выбор архитектуры"
   ]
  },
  {
   "cell_type": "code",
   "execution_count": 16,
   "metadata": {},
   "outputs": [],
   "source": [
    "D_in = 1 * 96 * 96  # C=1 because of black-and-white images\n",
    "D_out = 2 * 68"
   ]
  },
  {
   "cell_type": "code",
   "execution_count": null,
   "metadata": {},
   "outputs": [],
   "source": [
    "network1 = Sequential(\n",
    "          Linear(D_in, 1000),\n",
    "          Sigmoid(),\n",
    "          Linear(1000, 1000),\n",
    "          Sigmoid(),\n",
    "          Linear(1000, D_out)\n",
    "        ).cuda()"
   ]
  },
  {
   "cell_type": "code",
   "execution_count": null,
   "metadata": {},
   "outputs": [],
   "source": [
    "train(network1, 10, 0.001, loss=mse_loss)"
   ]
  },
  {
   "cell_type": "code",
   "execution_count": null,
   "metadata": {},
   "outputs": [],
   "source": [
    "network2 = Sequential(\n",
    "          Linear(D_in, 512),\n",
    "          Tanh(),\n",
    "          Linear(512, 512),\n",
    "          Tanh(),\n",
    "          Linear(512, D_out)\n",
    "        ).cuda()"
   ]
  },
  {
   "cell_type": "code",
   "execution_count": null,
   "metadata": {},
   "outputs": [],
   "source": [
    "train(network2, 10, 0.001, loss=mse_loss)"
   ]
  },
  {
   "cell_type": "code",
   "execution_count": null,
   "metadata": {},
   "outputs": [],
   "source": [
    "model = Sequential(Linear(1 * 96 * 96, 200), Tanh(),\n",
    "               Linear(200, 2 * 68)).cuda()"
   ]
  },
  {
   "cell_type": "code",
   "execution_count": null,
   "metadata": {},
   "outputs": [],
   "source": [
    "train(model, 10, 0.001, loss=mse_loss)"
   ]
  },
  {
   "cell_type": "code",
   "execution_count": null,
   "metadata": {},
   "outputs": [],
   "source": [
    "network3 = Sequential(\n",
    "              Linear(D_in, 1000),\n",
    "              ELU(0.1),\n",
    "              Linear(1000, 1000),\n",
    "              ELU(0.1),\n",
    "              Linear(1000, 1000),\n",
    "              ELU(0.1),\n",
    "              Linear(1000, D_out)\n",
    "           ).cuda()"
   ]
  },
  {
   "cell_type": "code",
   "execution_count": null,
   "metadata": {},
   "outputs": [],
   "source": [
    "train(network3, 20, 1e-4, loss=mse_loss)"
   ]
  },
  {
   "cell_type": "code",
   "execution_count": null,
   "metadata": {},
   "outputs": [],
   "source": [
    "network3 = Sequential(\n",
    "              Linear(D_in, 512),\n",
    "              ELU(),\n",
    "              Linear(512, 1000),\n",
    "              ELU(),\n",
    "              Linear(1000, 512),\n",
    "              ELU(),\n",
    "              Linear(512, D_out)\n",
    "           ).cuda()"
   ]
  },
  {
   "cell_type": "code",
   "execution_count": null,
   "metadata": {},
   "outputs": [],
   "source": [
    "train(network3, 40, 1e-4, loss=mse_loss)"
   ]
  },
  {
   "cell_type": "code",
   "execution_count": null,
   "metadata": {},
   "outputs": [],
   "source": [
    "network4 = Sequential(\n",
    "              Linear(D_in, 512),\n",
    "              nn.BatchNorm2d(512),\n",
    "              ELU(),\n",
    "              Linear(512, 1000),\n",
    "              nn.BatchNorm2d(1000),\n",
    "              ELU(),\n",
    "              Linear(1000, 512),\n",
    "              nn.BatchNorm2d(512),\n",
    "              ELU(),\n",
    "              Linear(512, D_out)\n",
    "           ).cuda()"
   ]
  },
  {
   "cell_type": "code",
   "execution_count": null,
   "metadata": {},
   "outputs": [],
   "source": [
    "train(network4, 20, 1e-4, loss=mse_loss) # 100 epochs"
   ]
  },
  {
   "cell_type": "code",
   "execution_count": null,
   "metadata": {},
   "outputs": [],
   "source": [
    "network5 = Sequential(\n",
    "              Linear(D_in, 512),\n",
    "              nn.BatchNorm2d(512),\n",
    "              nn.ReLU(),\n",
    "              Linear(512, 512),\n",
    "              nn.BatchNorm2d(512),\n",
    "              nn.ReLU(),\n",
    "              Linear(512, 512),\n",
    "              nn.BatchNorm2d(512),\n",
    "              nn.ReLU(),\n",
    "              Linear(512, 512),\n",
    "              nn.BatchNorm2d(512),\n",
    "              nn.ReLU(),\n",
    "              Linear(512, D_out)\n",
    "           ).cuda()"
   ]
  },
  {
   "cell_type": "code",
   "execution_count": null,
   "metadata": {},
   "outputs": [],
   "source": [
    "losses = train(network5, 200, 1e-4, loss=mse_loss) # 150 epochs"
   ]
  },
  {
   "cell_type": "code",
   "execution_count": null,
   "metadata": {},
   "outputs": [],
   "source": [
    "get_loss(network5)"
   ]
  },
  {
   "cell_type": "code",
   "execution_count": null,
   "metadata": {},
   "outputs": [],
   "source": [
    "#save_network(network5, './network5_5.76.pkl')"
   ]
  },
  {
   "cell_type": "markdown",
   "metadata": {},
   "source": [
    "##  ConvNN"
   ]
  },
  {
   "cell_type": "code",
   "execution_count": 21,
   "metadata": {},
   "outputs": [],
   "source": [
    "from torch import nn\n",
    "import torch\n",
    "from torch.autograd import Variable\n",
    "import torch.nn as nn\n",
    "import torch.nn.functional as F"
   ]
  },
  {
   "cell_type": "code",
   "execution_count": 22,
   "metadata": {},
   "outputs": [],
   "source": [
    "image_size = 96\n",
    "channels = 1"
   ]
  },
  {
   "cell_type": "code",
   "execution_count": 23,
   "metadata": {},
   "outputs": [],
   "source": [
    "mse_loss = torch.nn.MSELoss().cuda()\n",
    "dtype=torch.cuda.FloatTensor\n",
    "\n",
    "def train(network, epochs, learning_rate, loss=torch.nn.MSELoss().cuda(), optim=torch.optim.Adam):\n",
    "    train_loss_epochs = []\n",
    "    test_loss_epochs = []\n",
    "    optimizer = optim(network.parameters(), lr=learning_rate)\n",
    "    try:\n",
    "        for epoch in range(epochs):\n",
    "            losses = []\n",
    "            accuracies = []\n",
    "            for sample in train_dataloader:\n",
    "                X = sample['image']\n",
    "                #X = Variable(X.view(X.shape[0], -1)).type(dtype)\n",
    "                y = sample['landmarks']\n",
    "                #y = Variable(y.view(y.shape[0], -1)).type(dtype)\n",
    "                \n",
    "                X = Variable(X)\n",
    "                X = X[:, np.newaxis, :, :].type(dtype)\n",
    "                \n",
    "                y = Variable(y)\n",
    "                y = y[:, np.newaxis, :, :].type(dtype)\n",
    "\n",
    "                prediction = network(X)\n",
    "                loss_batch = loss(prediction, y)\n",
    "                losses.append(loss_batch.data[0])\n",
    "                \n",
    "                optimizer.zero_grad()\n",
    "                loss_batch.backward()\n",
    "                optimizer.step()\n",
    "  \n",
    "            train_loss_epochs.append(np.mean(losses))\n",
    "            losses = []    \n",
    "            for sample in test_dataloader:\n",
    "                X = sample['image']\n",
    "                #X = Variable(X.view(X.shape[0], -1)).type(dtype)\n",
    "                y = sample['landmarks']\n",
    "                #y = Variable(y.view(y.shape[0], -1)).type(dtype)\n",
    "                \n",
    "                X = Variable(X)\n",
    "                X = X[:, np.newaxis, :, :].type(dtype)\n",
    "                \n",
    "                y = Variable(y)\n",
    "                y = y[:, np.newaxis, :, :].type(dtype)\n",
    "                \n",
    "                \n",
    "                prediction = network(X)\n",
    "                loss_batch = loss(prediction, y)\n",
    "                losses.append(loss_batch.data[0])\n",
    "                \n",
    "            test_loss_epochs.append(np.mean(losses))\n",
    "            sys.stdout.write('\\rEpoch {0}... (Train/Test) MSE: {1:.3f}/{2:.3f}'.format(\n",
    "                        epoch, train_loss_epochs[-1], test_loss_epochs[-1]))\n",
    "    except KeyboardInterrupt:\n",
    "        pass\n",
    "    plt.figure(figsize=(12, 5))\n",
    "    plt.plot(train_loss_epochs[1:], label='Train')\n",
    "    plt.plot(test_loss_epochs[1:], label='Test')\n",
    "    plt.xlabel('Epochs', fontsize=16)\n",
    "    plt.ylabel('Loss', fontsize=16)\n",
    "    plt.legend(loc=0, fontsize=16)\n",
    "    plt.grid('on')\n",
    "    plt.show()"
   ]
  },
  {
   "cell_type": "code",
   "execution_count": null,
   "metadata": {},
   "outputs": [],
   "source": [
    "# input -> 8 Conv 3x3 -> ReLU -> maxpool -> 16 Conv 3x3 -> ReLU -> ravel -> Linear -> LogSoftmax\n",
    "class Conv1(nn.Module):\n",
    "    def __init__(self, input_size, input_channels):\n",
    "        super(Conv1, self).__init__()\n",
    "        self.conv_layers = nn.Sequential(nn.Conv2d(input_channels, 8, (3, 3), padding=1),\n",
    "                                         nn.ReLU(),\n",
    "                                         nn.MaxPool2d(2),\n",
    "                                         nn.Conv2d(8, 16, (3, 3), padding=1),\n",
    "                                         nn.ReLU(),\n",
    "                                        )\n",
    "        self.linear_layers = nn.Sequential(nn.Linear(int(input_size * input_size / (4) * 16), D_out),\n",
    "                                           nn.LogSoftmax())\n",
    "    \n",
    "    def forward(self, x):\n",
    "        x = self.conv_layers(x)\n",
    "        x = x.view(x.size(0), -1)\n",
    "        x = self.linear_layers(x)\n",
    "        return x"
   ]
  },
  {
   "cell_type": "code",
   "execution_count": null,
   "metadata": {},
   "outputs": [],
   "source": [
    "conv1 = Conv1(image_size, channels).cuda()\n",
    "conv1"
   ]
  },
  {
   "cell_type": "code",
   "execution_count": null,
   "metadata": {
    "scrolled": true
   },
   "outputs": [],
   "source": [
    "#train(conv1, 50, 1e-1)"
   ]
  },
  {
   "cell_type": "raw",
   "metadata": {},
   "source": [
    "net2 = NeuralNet(\n",
    "    layers=[\n",
    "        ('input', layers.InputLayer),\n",
    "        ('conv1', layers.Conv2DLayer),\n",
    "        ('pool1', layers.MaxPool2DLayer),\n",
    "        ('conv2', layers.Conv2DLayer),\n",
    "        ('pool2', layers.MaxPool2DLayer),\n",
    "        ('conv3', layers.Conv2DLayer),\n",
    "        ('pool3', layers.MaxPool2DLayer),\n",
    "        ('hidden4', layers.DenseLayer),\n",
    "        ('hidden5', layers.DenseLayer),\n",
    "        ('output', layers.DenseLayer),\n",
    "        ],\n",
    "    input_shape=(None, 1, 96, 96),\n",
    "    conv1_num_filters=32, conv1_filter_size=(3, 3), pool1_pool_size=(2, 2),\n",
    "    conv2_num_filters=64, conv2_filter_size=(2, 2), pool2_pool_size=(2, 2),\n",
    "    conv3_num_filters=128, conv3_filter_size=(2, 2), pool3_pool_size=(2, 2),\n",
    "    hidden4_num_units=500, hidden5_num_units=500,\n",
    "    output_num_units=30, output_nonlinearity=None,\n",
    "\n",
    "    update_learning_rate=0.01,\n",
    "    update_momentum=0.9,\n",
    "\n",
    "    regression=True,\n",
    "    max_epochs=1000,\n",
    "    verbose=1,\n",
    "    )"
   ]
  },
  {
   "cell_type": "code",
   "execution_count": null,
   "metadata": {},
   "outputs": [],
   "source": [
    "class Conv2(nn.Module):\n",
    "    def __init__(self, input_size, input_channels):\n",
    "        super(Conv2, self).__init__()\n",
    "        self.conv_layers = nn.Sequential(nn.Conv2d(input_channels, 32, (3, 3)),\n",
    "                                         nn.ELU(),\n",
    "                                         nn.MaxPool2d(2),\n",
    "                                         nn.Conv2d(32, 64, (2, 2)),\n",
    "                                         nn.ELU(),\n",
    "                                         nn.MaxPool2d(2),\n",
    "                                         nn.Conv2d(64, 128, (2, 2)),\n",
    "                                         nn.ELU(),\n",
    "                                         nn.MaxPool2d(2),\n",
    "                                        )\n",
    "        self.linear_layers = nn.Sequential(nn.Linear(15488, 500),\n",
    "                                           nn.Linear(500, D_out),\n",
    "                                          )\n",
    "    \n",
    "    def forward(self, x):\n",
    "        x = self.conv_layers(x)\n",
    "        x = x.view(x.size(0), -1)\n",
    "        x = self.linear_layers(x)\n",
    "        return x"
   ]
  },
  {
   "cell_type": "code",
   "execution_count": null,
   "metadata": {},
   "outputs": [],
   "source": [
    "conv2 = Conv2(input_size=image_size, input_channels=channels).cuda()\n",
    "print(conv2)"
   ]
  },
  {
   "cell_type": "code",
   "execution_count": null,
   "metadata": {},
   "outputs": [],
   "source": [
    "train(conv2, 200, 0.01)"
   ]
  },
  {
   "cell_type": "raw",
   "metadata": {},
   "source": [
    "model = Sequential()\n",
    "model.add(BatchNormalization(input_shape=(96, 96, 1)))\n",
    "model.add(Convolution2D(24, 5, 5, border_mode=”same”, init=’he_normal’, input_shape=(96, 96, 1), dim_ordering=”tf”))\n",
    "model.add(Activation(“relu”))\n",
    "model.add(MaxPooling2D(pool_size=(2, 2), strides=(2, 2), border_mode=”valid”))\n",
    "model.add(Convolution2D(36, 5, 5))\n",
    "model.add(Activation(“relu”))\n",
    "model.add(MaxPooling2D(pool_size=(2, 2), strides=(2, 2), border_mode=”valid”))\n",
    "model.add(Convolution2D(48, 5, 5))\n",
    "model.add(Activation(“relu”))\n",
    "model.add(MaxPooling2D(pool_size=(2, 2), strides=(2, 2), border_mode=”valid”))\n",
    "model.add(Convolution2D(64, 3, 3))\n",
    "model.add(Activation(“relu”))\n",
    "model.add(MaxPooling2D(pool_size=(2, 2), strides=(2, 2), border_mode=”valid”))\n",
    "model.add(Convolution2D(64, 3, 3))\n",
    "model.add(Activation(“relu”))\n",
    "model.add(GlobalAveragePooling2D());\n",
    "model.add(Dense(500, activation=”relu”))\n",
    "model.add(Dense(90, activation=”relu”))\n",
    "model.add(Dense(30))"
   ]
  },
  {
   "cell_type": "code",
   "execution_count": null,
   "metadata": {},
   "outputs": [],
   "source": [
    "class Conv3(nn.Module):\n",
    "    def __init__(self, input_size, input_channels):\n",
    "        super(Conv3, self).__init__()\n",
    "        self.conv_layers = nn.Sequential(\n",
    "                                         nn.Conv2d(input_channels, 24, (5, 5)),\n",
    "                                         nn.ReLU(),\n",
    "                                         nn.MaxPool2d(2, stride=2),\n",
    "                                         nn.Conv2d(24, 36, (5, 5)),\n",
    "                                         nn.ReLU(),\n",
    "                                         nn.MaxPool2d(2, stride=2),\n",
    "                                         nn.Conv2d(36, 48, (5, 5)),\n",
    "                                         nn.ReLU(),\n",
    "                                         nn.MaxPool2d(2, stride=2),\n",
    "                                         nn.Conv2d(48, 64, (3, 3)),\n",
    "                                         nn.ReLU(),\n",
    "                                         nn.MaxPool2d(2, stride=2),\n",
    "                                         nn.Conv2d(64, 64, (3, 3)),\n",
    "                                         nn.ReLU(),\n",
    "                                        )\n",
    "        self.linear_layers = nn.Sequential(nn.Linear(64, 500),\n",
    "                                           nn.ReLU(),\n",
    "                                           nn.Linear(500, 90),\n",
    "                                           nn.ReLU(),\n",
    "                                           nn.Linear(90, D_out)\n",
    "                                          )\n",
    "    \n",
    "    def forward(self, x):\n",
    "        x = self.conv_layers(x)\n",
    "        x = x.view(x.size(0), -1)\n",
    "        x = self.linear_layers(x)\n",
    "        return x"
   ]
  },
  {
   "cell_type": "code",
   "execution_count": null,
   "metadata": {},
   "outputs": [],
   "source": [
    "conv3 = Conv3(input_size=image_size, input_channels=channels).cuda()\n",
    "print(conv3)"
   ]
  },
  {
   "cell_type": "code",
   "execution_count": null,
   "metadata": {},
   "outputs": [],
   "source": [
    "#train(conv3, 100, 0.001)"
   ]
  },
  {
   "cell_type": "code",
   "execution_count": null,
   "metadata": {},
   "outputs": [],
   "source": [
    "save_network(conv3, 'conv3_4.254.pkl')"
   ]
  },
  {
   "cell_type": "code",
   "execution_count": null,
   "metadata": {},
   "outputs": [],
   "source": [
    "class Conv4(nn.Module):\n",
    "    def __init__(self, input_size, input_channels):\n",
    "        super(Conv4, self).__init__()\n",
    "        self.conv_layers = nn.Sequential(\n",
    "                                         nn.Conv2d(input_channels, 24, (5, 5)),\n",
    "                                         nn.BatchNorm2d(24),\n",
    "                                         nn.ReLU(),\n",
    "                                         nn.MaxPool2d(2, stride=2),\n",
    "                                         nn.Conv2d(24, 36, (5, 5)),\n",
    "                                         nn.BatchNorm2d(36),\n",
    "                                         nn.ReLU(),\n",
    "                                         nn.MaxPool2d(2, stride=2),\n",
    "                                         nn.Conv2d(36, 48, (5, 5)),\n",
    "                                         nn.BatchNorm2d(48),\n",
    "                                         nn.ReLU(),\n",
    "                                         nn.MaxPool2d(2, stride=2),\n",
    "                                         nn.Conv2d(48, 64, (3, 3)),\n",
    "                                         nn.BatchNorm2d(64),\n",
    "                                         nn.ReLU(),\n",
    "                                         nn.MaxPool2d(2, stride=2),\n",
    "                                         nn.Conv2d(64, 64, (3, 3)),\n",
    "                                         nn.BatchNorm2d(64),\n",
    "                                         nn.ReLU(),\n",
    "                                        )\n",
    "        self.linear_layers = nn.Sequential(nn.Linear(64, 500),\n",
    "                                           nn.ReLU(),\n",
    "                                           nn.Linear(500, 90),\n",
    "                                           nn.ReLU(),\n",
    "                                           nn.Linear(90, D_out)\n",
    "                                          )\n",
    "    \n",
    "    def forward(self, x):\n",
    "        x = self.conv_layers(x)\n",
    "        x = x.view(x.size(0), -1)\n",
    "        x = self.linear_layers(x)\n",
    "        return x"
   ]
  },
  {
   "cell_type": "code",
   "execution_count": null,
   "metadata": {},
   "outputs": [],
   "source": [
    "conv4 = Conv4(input_size=image_size, input_channels=channels).cuda()\n",
    "print(conv4)"
   ]
  },
  {
   "cell_type": "code",
   "execution_count": null,
   "metadata": {},
   "outputs": [],
   "source": [
    "#train(conv4, 100, 0.001)"
   ]
  },
  {
   "cell_type": "code",
   "execution_count": 27,
   "metadata": {},
   "outputs": [],
   "source": [
    "class Conv5(nn.Module):\n",
    "    def __init__(self, input_size, input_channels):\n",
    "        super(Conv5, self).__init__()\n",
    "        self.conv_layers = nn.Sequential(\n",
    "                                         nn.Conv2d(input_channels, 24, (3, 3)),\n",
    "                                         nn.ReLU(),\n",
    "                                         nn.MaxPool2d(2, stride=1),\n",
    "                                         nn.Conv2d(24, 36, (3, 3)),\n",
    "                                         nn.ReLU(),\n",
    "                                         nn.MaxPool2d(2, stride=1),\n",
    "                                         nn.Conv2d(36, 48, (3, 3)),\n",
    "                                         nn.ReLU(),\n",
    "                                         nn.MaxPool2d(2, stride=1),\n",
    "                                         nn.Conv2d(48, 64, (3, 3)),\n",
    "                                         nn.ReLU(),\n",
    "                                         nn.MaxPool2d(2, stride=1),\n",
    "                                         nn.Conv2d(64, 64, (3, 3)),\n",
    "                                         nn.ReLU(),\n",
    "                                        )\n",
    "        self.linear_layers = nn.Sequential(nn.Linear(430336, 700),\n",
    "                                           nn.ReLU(),\n",
    "                                           nn.Linear(700, 90),\n",
    "                                           nn.ReLU(),\n",
    "                                           nn.Linear(90, D_out)\n",
    "                                          )\n",
    "    \n",
    "    def forward(self, x):\n",
    "        x = self.conv_layers(x)\n",
    "        x = x.view(x.size(0), -1)\n",
    "        print(x.shape)\n",
    "        x = self.linear_layers(x)\n",
    "        return x"
   ]
  },
  {
   "cell_type": "code",
   "execution_count": 28,
   "metadata": {},
   "outputs": [
    {
     "name": "stdout",
     "output_type": "stream",
     "text": [
      "Conv5(\n",
      "  (conv_layers): Sequential(\n",
      "    (0): Conv2d(1, 24, kernel_size=(3, 3), stride=(1, 1))\n",
      "    (1): ReLU()\n",
      "    (2): MaxPool2d(kernel_size=(2, 2), stride=(1, 1), dilation=(1, 1), ceil_mode=False)\n",
      "    (3): Conv2d(24, 36, kernel_size=(3, 3), stride=(1, 1))\n",
      "    (4): ReLU()\n",
      "    (5): MaxPool2d(kernel_size=(2, 2), stride=(1, 1), dilation=(1, 1), ceil_mode=False)\n",
      "    (6): Conv2d(36, 48, kernel_size=(3, 3), stride=(1, 1))\n",
      "    (7): ReLU()\n",
      "    (8): MaxPool2d(kernel_size=(2, 2), stride=(1, 1), dilation=(1, 1), ceil_mode=False)\n",
      "    (9): Conv2d(48, 64, kernel_size=(3, 3), stride=(1, 1))\n",
      "    (10): ReLU()\n",
      "    (11): MaxPool2d(kernel_size=(2, 2), stride=(1, 1), dilation=(1, 1), ceil_mode=False)\n",
      "    (12): Conv2d(64, 64, kernel_size=(3, 3), stride=(1, 1))\n",
      "    (13): ReLU()\n",
      "  )\n",
      "  (linear_layers): Sequential(\n",
      "    (0): Linear(in_features=430336, out_features=700, bias=True)\n",
      "    (1): ReLU()\n",
      "    (2): Linear(in_features=700, out_features=90, bias=True)\n",
      "    (3): ReLU()\n",
      "    (4): Linear(in_features=90, out_features=136, bias=True)\n",
      "  )\n",
      ")\n"
     ]
    }
   ],
   "source": [
    "conv5 = Conv5(input_size=image_size, input_channels=channels).cuda()\n",
    "print(conv5)"
   ]
  },
  {
   "cell_type": "code",
   "execution_count": 29,
   "metadata": {},
   "outputs": [
    {
     "ename": "RuntimeError",
     "evalue": "cuda runtime error (2) : out of memory at /pytorch/torch/lib/THC/generic/THCStorage.cu:58",
     "output_type": "error",
     "traceback": [
      "\u001b[0;31m---------------------------------------------------------------------------\u001b[0m",
      "\u001b[0;31mRuntimeError\u001b[0m                              Traceback (most recent call last)",
      "\u001b[0;32m<ipython-input-29-bf8c2b3254b0>\u001b[0m in \u001b[0;36m<module>\u001b[0;34m()\u001b[0m\n\u001b[0;32m----> 1\u001b[0;31m \u001b[0mtrain\u001b[0m\u001b[0;34m(\u001b[0m\u001b[0mconv5\u001b[0m\u001b[0;34m,\u001b[0m \u001b[0;36m100\u001b[0m\u001b[0;34m,\u001b[0m \u001b[0;36m0.001\u001b[0m\u001b[0;34m)\u001b[0m\u001b[0;34m\u001b[0m\u001b[0m\n\u001b[0m",
      "\u001b[0;32m<ipython-input-23-c8bdf1eaf13a>\u001b[0m in \u001b[0;36mtrain\u001b[0;34m(network, epochs, learning_rate, loss, optim)\u001b[0m\n\u001b[1;32m     22\u001b[0m                 \u001b[0my\u001b[0m \u001b[0;34m=\u001b[0m \u001b[0my\u001b[0m\u001b[0;34m[\u001b[0m\u001b[0;34m:\u001b[0m\u001b[0;34m,\u001b[0m \u001b[0mnp\u001b[0m\u001b[0;34m.\u001b[0m\u001b[0mnewaxis\u001b[0m\u001b[0;34m,\u001b[0m \u001b[0;34m:\u001b[0m\u001b[0;34m,\u001b[0m \u001b[0;34m:\u001b[0m\u001b[0;34m]\u001b[0m\u001b[0;34m.\u001b[0m\u001b[0mtype\u001b[0m\u001b[0;34m(\u001b[0m\u001b[0mdtype\u001b[0m\u001b[0;34m)\u001b[0m\u001b[0;34m\u001b[0m\u001b[0m\n\u001b[1;32m     23\u001b[0m \u001b[0;34m\u001b[0m\u001b[0m\n\u001b[0;32m---> 24\u001b[0;31m                 \u001b[0mprediction\u001b[0m \u001b[0;34m=\u001b[0m \u001b[0mnetwork\u001b[0m\u001b[0;34m(\u001b[0m\u001b[0mX\u001b[0m\u001b[0;34m)\u001b[0m\u001b[0;34m\u001b[0m\u001b[0m\n\u001b[0m\u001b[1;32m     25\u001b[0m                 \u001b[0mloss_batch\u001b[0m \u001b[0;34m=\u001b[0m \u001b[0mloss\u001b[0m\u001b[0;34m(\u001b[0m\u001b[0mprediction\u001b[0m\u001b[0;34m,\u001b[0m \u001b[0my\u001b[0m\u001b[0;34m)\u001b[0m\u001b[0;34m\u001b[0m\u001b[0m\n\u001b[1;32m     26\u001b[0m                 \u001b[0mlosses\u001b[0m\u001b[0;34m.\u001b[0m\u001b[0mappend\u001b[0m\u001b[0;34m(\u001b[0m\u001b[0mloss_batch\u001b[0m\u001b[0;34m.\u001b[0m\u001b[0mdata\u001b[0m\u001b[0;34m[\u001b[0m\u001b[0;36m0\u001b[0m\u001b[0;34m]\u001b[0m\u001b[0;34m)\u001b[0m\u001b[0;34m\u001b[0m\u001b[0m\n",
      "\u001b[0;32m/home/maksim/Remote/venv36/lib/python3.6/site-packages/torch/nn/modules/module.py\u001b[0m in \u001b[0;36m__call__\u001b[0;34m(self, *input, **kwargs)\u001b[0m\n\u001b[1;32m    355\u001b[0m             \u001b[0mresult\u001b[0m \u001b[0;34m=\u001b[0m \u001b[0mself\u001b[0m\u001b[0;34m.\u001b[0m\u001b[0m_slow_forward\u001b[0m\u001b[0;34m(\u001b[0m\u001b[0;34m*\u001b[0m\u001b[0minput\u001b[0m\u001b[0;34m,\u001b[0m \u001b[0;34m**\u001b[0m\u001b[0mkwargs\u001b[0m\u001b[0;34m)\u001b[0m\u001b[0;34m\u001b[0m\u001b[0m\n\u001b[1;32m    356\u001b[0m         \u001b[0;32melse\u001b[0m\u001b[0;34m:\u001b[0m\u001b[0;34m\u001b[0m\u001b[0m\n\u001b[0;32m--> 357\u001b[0;31m             \u001b[0mresult\u001b[0m \u001b[0;34m=\u001b[0m \u001b[0mself\u001b[0m\u001b[0;34m.\u001b[0m\u001b[0mforward\u001b[0m\u001b[0;34m(\u001b[0m\u001b[0;34m*\u001b[0m\u001b[0minput\u001b[0m\u001b[0;34m,\u001b[0m \u001b[0;34m**\u001b[0m\u001b[0mkwargs\u001b[0m\u001b[0;34m)\u001b[0m\u001b[0;34m\u001b[0m\u001b[0m\n\u001b[0m\u001b[1;32m    358\u001b[0m         \u001b[0;32mfor\u001b[0m \u001b[0mhook\u001b[0m \u001b[0;32min\u001b[0m \u001b[0mself\u001b[0m\u001b[0;34m.\u001b[0m\u001b[0m_forward_hooks\u001b[0m\u001b[0;34m.\u001b[0m\u001b[0mvalues\u001b[0m\u001b[0;34m(\u001b[0m\u001b[0;34m)\u001b[0m\u001b[0;34m:\u001b[0m\u001b[0;34m\u001b[0m\u001b[0m\n\u001b[1;32m    359\u001b[0m             \u001b[0mhook_result\u001b[0m \u001b[0;34m=\u001b[0m \u001b[0mhook\u001b[0m\u001b[0;34m(\u001b[0m\u001b[0mself\u001b[0m\u001b[0;34m,\u001b[0m \u001b[0minput\u001b[0m\u001b[0;34m,\u001b[0m \u001b[0mresult\u001b[0m\u001b[0;34m)\u001b[0m\u001b[0;34m\u001b[0m\u001b[0m\n",
      "\u001b[0;32m<ipython-input-27-47e69542a5fc>\u001b[0m in \u001b[0;36mforward\u001b[0;34m(self, x)\u001b[0m\n\u001b[1;32m     26\u001b[0m \u001b[0;34m\u001b[0m\u001b[0m\n\u001b[1;32m     27\u001b[0m     \u001b[0;32mdef\u001b[0m \u001b[0mforward\u001b[0m\u001b[0;34m(\u001b[0m\u001b[0mself\u001b[0m\u001b[0;34m,\u001b[0m \u001b[0mx\u001b[0m\u001b[0;34m)\u001b[0m\u001b[0;34m:\u001b[0m\u001b[0;34m\u001b[0m\u001b[0m\n\u001b[0;32m---> 28\u001b[0;31m         \u001b[0mx\u001b[0m \u001b[0;34m=\u001b[0m \u001b[0mself\u001b[0m\u001b[0;34m.\u001b[0m\u001b[0mconv_layers\u001b[0m\u001b[0;34m(\u001b[0m\u001b[0mx\u001b[0m\u001b[0;34m)\u001b[0m\u001b[0;34m\u001b[0m\u001b[0m\n\u001b[0m\u001b[1;32m     29\u001b[0m         \u001b[0mx\u001b[0m \u001b[0;34m=\u001b[0m \u001b[0mx\u001b[0m\u001b[0;34m.\u001b[0m\u001b[0mview\u001b[0m\u001b[0;34m(\u001b[0m\u001b[0mx\u001b[0m\u001b[0;34m.\u001b[0m\u001b[0msize\u001b[0m\u001b[0;34m(\u001b[0m\u001b[0;36m0\u001b[0m\u001b[0;34m)\u001b[0m\u001b[0;34m,\u001b[0m \u001b[0;34m-\u001b[0m\u001b[0;36m1\u001b[0m\u001b[0;34m)\u001b[0m\u001b[0;34m\u001b[0m\u001b[0m\n\u001b[1;32m     30\u001b[0m         \u001b[0mprint\u001b[0m\u001b[0;34m(\u001b[0m\u001b[0mx\u001b[0m\u001b[0;34m.\u001b[0m\u001b[0mshape\u001b[0m\u001b[0;34m)\u001b[0m\u001b[0;34m\u001b[0m\u001b[0m\n",
      "\u001b[0;32m/home/maksim/Remote/venv36/lib/python3.6/site-packages/torch/nn/modules/module.py\u001b[0m in \u001b[0;36m__call__\u001b[0;34m(self, *input, **kwargs)\u001b[0m\n\u001b[1;32m    355\u001b[0m             \u001b[0mresult\u001b[0m \u001b[0;34m=\u001b[0m \u001b[0mself\u001b[0m\u001b[0;34m.\u001b[0m\u001b[0m_slow_forward\u001b[0m\u001b[0;34m(\u001b[0m\u001b[0;34m*\u001b[0m\u001b[0minput\u001b[0m\u001b[0;34m,\u001b[0m \u001b[0;34m**\u001b[0m\u001b[0mkwargs\u001b[0m\u001b[0;34m)\u001b[0m\u001b[0;34m\u001b[0m\u001b[0m\n\u001b[1;32m    356\u001b[0m         \u001b[0;32melse\u001b[0m\u001b[0;34m:\u001b[0m\u001b[0;34m\u001b[0m\u001b[0m\n\u001b[0;32m--> 357\u001b[0;31m             \u001b[0mresult\u001b[0m \u001b[0;34m=\u001b[0m \u001b[0mself\u001b[0m\u001b[0;34m.\u001b[0m\u001b[0mforward\u001b[0m\u001b[0;34m(\u001b[0m\u001b[0;34m*\u001b[0m\u001b[0minput\u001b[0m\u001b[0;34m,\u001b[0m \u001b[0;34m**\u001b[0m\u001b[0mkwargs\u001b[0m\u001b[0;34m)\u001b[0m\u001b[0;34m\u001b[0m\u001b[0m\n\u001b[0m\u001b[1;32m    358\u001b[0m         \u001b[0;32mfor\u001b[0m \u001b[0mhook\u001b[0m \u001b[0;32min\u001b[0m \u001b[0mself\u001b[0m\u001b[0;34m.\u001b[0m\u001b[0m_forward_hooks\u001b[0m\u001b[0;34m.\u001b[0m\u001b[0mvalues\u001b[0m\u001b[0;34m(\u001b[0m\u001b[0;34m)\u001b[0m\u001b[0;34m:\u001b[0m\u001b[0;34m\u001b[0m\u001b[0m\n\u001b[1;32m    359\u001b[0m             \u001b[0mhook_result\u001b[0m \u001b[0;34m=\u001b[0m \u001b[0mhook\u001b[0m\u001b[0;34m(\u001b[0m\u001b[0mself\u001b[0m\u001b[0;34m,\u001b[0m \u001b[0minput\u001b[0m\u001b[0;34m,\u001b[0m \u001b[0mresult\u001b[0m\u001b[0;34m)\u001b[0m\u001b[0;34m\u001b[0m\u001b[0m\n",
      "\u001b[0;32m/home/maksim/Remote/venv36/lib/python3.6/site-packages/torch/nn/modules/container.py\u001b[0m in \u001b[0;36mforward\u001b[0;34m(self, input)\u001b[0m\n\u001b[1;32m     65\u001b[0m     \u001b[0;32mdef\u001b[0m \u001b[0mforward\u001b[0m\u001b[0;34m(\u001b[0m\u001b[0mself\u001b[0m\u001b[0;34m,\u001b[0m \u001b[0minput\u001b[0m\u001b[0;34m)\u001b[0m\u001b[0;34m:\u001b[0m\u001b[0;34m\u001b[0m\u001b[0m\n\u001b[1;32m     66\u001b[0m         \u001b[0;32mfor\u001b[0m \u001b[0mmodule\u001b[0m \u001b[0;32min\u001b[0m \u001b[0mself\u001b[0m\u001b[0;34m.\u001b[0m\u001b[0m_modules\u001b[0m\u001b[0;34m.\u001b[0m\u001b[0mvalues\u001b[0m\u001b[0;34m(\u001b[0m\u001b[0;34m)\u001b[0m\u001b[0;34m:\u001b[0m\u001b[0;34m\u001b[0m\u001b[0m\n\u001b[0;32m---> 67\u001b[0;31m             \u001b[0minput\u001b[0m \u001b[0;34m=\u001b[0m \u001b[0mmodule\u001b[0m\u001b[0;34m(\u001b[0m\u001b[0minput\u001b[0m\u001b[0;34m)\u001b[0m\u001b[0;34m\u001b[0m\u001b[0m\n\u001b[0m\u001b[1;32m     68\u001b[0m         \u001b[0;32mreturn\u001b[0m \u001b[0minput\u001b[0m\u001b[0;34m\u001b[0m\u001b[0m\n\u001b[1;32m     69\u001b[0m \u001b[0;34m\u001b[0m\u001b[0m\n",
      "\u001b[0;32m/home/maksim/Remote/venv36/lib/python3.6/site-packages/torch/nn/modules/module.py\u001b[0m in \u001b[0;36m__call__\u001b[0;34m(self, *input, **kwargs)\u001b[0m\n\u001b[1;32m    355\u001b[0m             \u001b[0mresult\u001b[0m \u001b[0;34m=\u001b[0m \u001b[0mself\u001b[0m\u001b[0;34m.\u001b[0m\u001b[0m_slow_forward\u001b[0m\u001b[0;34m(\u001b[0m\u001b[0;34m*\u001b[0m\u001b[0minput\u001b[0m\u001b[0;34m,\u001b[0m \u001b[0;34m**\u001b[0m\u001b[0mkwargs\u001b[0m\u001b[0;34m)\u001b[0m\u001b[0;34m\u001b[0m\u001b[0m\n\u001b[1;32m    356\u001b[0m         \u001b[0;32melse\u001b[0m\u001b[0;34m:\u001b[0m\u001b[0;34m\u001b[0m\u001b[0m\n\u001b[0;32m--> 357\u001b[0;31m             \u001b[0mresult\u001b[0m \u001b[0;34m=\u001b[0m \u001b[0mself\u001b[0m\u001b[0;34m.\u001b[0m\u001b[0mforward\u001b[0m\u001b[0;34m(\u001b[0m\u001b[0;34m*\u001b[0m\u001b[0minput\u001b[0m\u001b[0;34m,\u001b[0m \u001b[0;34m**\u001b[0m\u001b[0mkwargs\u001b[0m\u001b[0;34m)\u001b[0m\u001b[0;34m\u001b[0m\u001b[0m\n\u001b[0m\u001b[1;32m    358\u001b[0m         \u001b[0;32mfor\u001b[0m \u001b[0mhook\u001b[0m \u001b[0;32min\u001b[0m \u001b[0mself\u001b[0m\u001b[0;34m.\u001b[0m\u001b[0m_forward_hooks\u001b[0m\u001b[0;34m.\u001b[0m\u001b[0mvalues\u001b[0m\u001b[0;34m(\u001b[0m\u001b[0;34m)\u001b[0m\u001b[0;34m:\u001b[0m\u001b[0;34m\u001b[0m\u001b[0m\n\u001b[1;32m    359\u001b[0m             \u001b[0mhook_result\u001b[0m \u001b[0;34m=\u001b[0m \u001b[0mhook\u001b[0m\u001b[0;34m(\u001b[0m\u001b[0mself\u001b[0m\u001b[0;34m,\u001b[0m \u001b[0minput\u001b[0m\u001b[0;34m,\u001b[0m \u001b[0mresult\u001b[0m\u001b[0;34m)\u001b[0m\u001b[0;34m\u001b[0m\u001b[0m\n",
      "\u001b[0;32m/home/maksim/Remote/venv36/lib/python3.6/site-packages/torch/nn/modules/activation.py\u001b[0m in \u001b[0;36mforward\u001b[0;34m(self, input)\u001b[0m\n\u001b[1;32m     41\u001b[0m \u001b[0;34m\u001b[0m\u001b[0m\n\u001b[1;32m     42\u001b[0m     \u001b[0;32mdef\u001b[0m \u001b[0mforward\u001b[0m\u001b[0;34m(\u001b[0m\u001b[0mself\u001b[0m\u001b[0;34m,\u001b[0m \u001b[0minput\u001b[0m\u001b[0;34m)\u001b[0m\u001b[0;34m:\u001b[0m\u001b[0;34m\u001b[0m\u001b[0m\n\u001b[0;32m---> 43\u001b[0;31m         \u001b[0;32mreturn\u001b[0m \u001b[0mF\u001b[0m\u001b[0;34m.\u001b[0m\u001b[0mthreshold\u001b[0m\u001b[0;34m(\u001b[0m\u001b[0minput\u001b[0m\u001b[0;34m,\u001b[0m \u001b[0mself\u001b[0m\u001b[0;34m.\u001b[0m\u001b[0mthreshold\u001b[0m\u001b[0;34m,\u001b[0m \u001b[0mself\u001b[0m\u001b[0;34m.\u001b[0m\u001b[0mvalue\u001b[0m\u001b[0;34m,\u001b[0m \u001b[0mself\u001b[0m\u001b[0;34m.\u001b[0m\u001b[0minplace\u001b[0m\u001b[0;34m)\u001b[0m\u001b[0;34m\u001b[0m\u001b[0m\n\u001b[0m\u001b[1;32m     44\u001b[0m \u001b[0;34m\u001b[0m\u001b[0m\n\u001b[1;32m     45\u001b[0m     \u001b[0;32mdef\u001b[0m \u001b[0m__repr__\u001b[0m\u001b[0;34m(\u001b[0m\u001b[0mself\u001b[0m\u001b[0;34m)\u001b[0m\u001b[0;34m:\u001b[0m\u001b[0;34m\u001b[0m\u001b[0m\n",
      "\u001b[0;31mRuntimeError\u001b[0m: cuda runtime error (2) : out of memory at /pytorch/torch/lib/THC/generic/THCStorage.cu:58"
     ]
    }
   ],
   "source": [
    "train(conv5, 100, 0.001)"
   ]
  },
  {
   "cell_type": "code",
   "execution_count": null,
   "metadata": {},
   "outputs": [],
   "source": []
  }
 ],
 "metadata": {
  "kernelspec": {
   "display_name": "Python 3",
   "language": "python",
   "name": "python3"
  },
  "language_info": {
   "codemirror_mode": {
    "name": "ipython",
    "version": 3
   },
   "file_extension": ".py",
   "mimetype": "text/x-python",
   "name": "python",
   "nbconvert_exporter": "python",
   "pygments_lexer": "ipython3",
   "version": "3.6.3"
  }
 },
 "nbformat": 4,
 "nbformat_minor": 1
}
